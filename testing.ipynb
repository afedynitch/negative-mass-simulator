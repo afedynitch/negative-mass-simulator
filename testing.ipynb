{
 "cells": [
  {
   "cell_type": "code",
   "execution_count": 1,
   "metadata": {},
   "outputs": [],
   "source": [
    "%matplotlib inline\n",
    "%load_ext autoreload\n",
    "%autoreload 2\n",
    "import matplotlib.pyplot as plt\n",
    "import numpy as np"
   ]
  },
  {
   "cell_type": "code",
   "execution_count": 6,
   "metadata": {},
   "outputs": [],
   "source": [
    "import sys\n",
    "sys.path.append('.')"
   ]
  },
  {
   "cell_type": "code",
   "execution_count": 7,
   "metadata": {},
   "outputs": [
    {
     "ename": "ImportError",
     "evalue": "No module named initialise.init",
     "output_type": "error",
     "traceback": [
      "\u001b[0;31m---------------------------------------------------------------------------\u001b[0m",
      "\u001b[0;31mImportError\u001b[0m                               Traceback (most recent call last)",
      "\u001b[0;32m<ipython-input-7-8b919f4bed37>\u001b[0m in \u001b[0;36m<module>\u001b[0;34m()\u001b[0m\n\u001b[0;32m----> 1\u001b[0;31m \u001b[0;32mfrom\u001b[0m \u001b[0mnegmass_nbody\u001b[0m\u001b[0;34m.\u001b[0m\u001b[0minitialise\u001b[0m\u001b[0;34m.\u001b[0m\u001b[0minit\u001b[0m \u001b[0;32mimport\u001b[0m \u001b[0minit_dm_halo\u001b[0m\u001b[0;34m,\u001b[0m \u001b[0minit_structure_formation\u001b[0m\u001b[0;34m\u001b[0m\u001b[0m\n\u001b[0m\u001b[1;32m      2\u001b[0m \u001b[0;32mfrom\u001b[0m \u001b[0mnegmass_nbody\u001b[0m\u001b[0;34m.\u001b[0m\u001b[0msimulate\u001b[0m\u001b[0;34m.\u001b[0m\u001b[0msim\u001b[0m \u001b[0;32mimport\u001b[0m \u001b[0mrun_nbody\u001b[0m\u001b[0;34m\u001b[0m\u001b[0m\n\u001b[1;32m      3\u001b[0m \u001b[0;32mfrom\u001b[0m \u001b[0mnegmass_nbody\u001b[0m\u001b[0;34m.\u001b[0m\u001b[0mvisualise\u001b[0m\u001b[0;34m.\u001b[0m\u001b[0mvis\u001b[0m \u001b[0;32mimport\u001b[0m \u001b[0mmake_images\u001b[0m\u001b[0;34m,\u001b[0m \u001b[0mmake_videos\u001b[0m\u001b[0;34m\u001b[0m\u001b[0m\n\u001b[1;32m      4\u001b[0m \u001b[0;34m\u001b[0m\u001b[0m\n\u001b[1;32m      5\u001b[0m \u001b[0;31m# __author__ = \"Jamie Farnes\"\u001b[0m\u001b[0;34m\u001b[0m\u001b[0;34m\u001b[0m\u001b[0m\n",
      "\u001b[0;31mImportError\u001b[0m: No module named initialise.init"
     ]
    }
   ],
   "source": [
    "from negmass_nbody.initialise.init import init_dm_halo, init_structure_formation\n",
    "from negmass_nbody.simulate.sim import run_nbody\n",
    "from negmass_nbody.visualise.vis import make_images, make_videos\n",
    "\n",
    "# __author__ = \"Jamie Farnes\"\n",
    "# __email__ = \"jamie.farnes@oerc.ox.ac.uk\"\n",
    "\n",
    "\n",
    "# # Setup the simulation for either halo or structure formation:\n",
    "# SPECIFY_SIM = 'halo'\n",
    "\n",
    "# if SPECIFY_SIM == 'halo':\n",
    "#     init_dm_halo()\n",
    "# elif SPECIFY_SIM == 'structure':\n",
    "#     init_structure_formation()\n",
    "# else:\n",
    "#     print(\"ERROR: Unknown simulation type.\")\n",
    "\n",
    "# # Create the snapshots:\n",
    "# run_nbody()\n",
    "\n",
    "# # Make images from the data:\n",
    "# make_images()\n",
    "\n",
    "# # Concatenate images into video format:\n",
    "# make_videos()\n"
   ]
  },
  {
   "cell_type": "code",
   "execution_count": 5,
   "metadata": {},
   "outputs": [
    {
     "data": {
      "text/plain": [
       "u'/mnt/c/Users/afedy/OneDrive/devel/git/negative-mass-simulator'"
      ]
     },
     "execution_count": 5,
     "metadata": {},
     "output_type": "execute_result"
    }
   ],
   "source": [
    "%pwd"
   ]
  },
  {
   "cell_type": "code",
   "execution_count": null,
   "metadata": {},
   "outputs": [],
   "source": []
  }
 ],
 "metadata": {
  "kernelspec": {
   "display_name": "Python 2",
   "language": "python",
   "name": "python2"
  },
  "language_info": {
   "codemirror_mode": {
    "name": "ipython",
    "version": 2
   },
   "file_extension": ".py",
   "mimetype": "text/x-python",
   "name": "python",
   "nbconvert_exporter": "python",
   "pygments_lexer": "ipython2",
   "version": "2.7.15"
  }
 },
 "nbformat": 4,
 "nbformat_minor": 2
}
